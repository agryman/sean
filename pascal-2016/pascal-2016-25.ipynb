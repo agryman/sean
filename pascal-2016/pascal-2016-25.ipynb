{
 "cells": [
  {
   "cell_type": "markdown",
   "metadata": {
    "collapsed": true
   },
   "source": [
    "# 2016 Pascal Contest, Question 25\n",
    "\n",
    "This notebook discusses the solution to question 25.\n",
    "\n",
    "<img src=\"pascal-2016-question-25.pdf\" width=\"100%\">"
   ]
  },
  {
   "cell_type": "markdown",
   "metadata": {},
   "source": [
    "## Solving the problem by counting the grids using Python\n",
    "\n",
    "The problem talks about rows and columns that contain 0's and 1's. We can represent these as Python tuples of integers. Since rows and column contain exactly three elements, we'll refer to them as triples. Let `triples` be the list of all possible triples that contain just 0's and 1's. Since each element of a triple can take two distinct values there are $2^3 = 8$ possible triples."
   ]
  },
  {
   "cell_type": "code",
   "execution_count": 2,
   "metadata": {
    "pycharm": {
     "is_executing": false
    }
   },
   "outputs": [
    {
     "name": "stdout",
     "text": [
      "[(0, 0, 0), (0, 0, 1), (0, 1, 0), (0, 1, 1), (1, 0, 0), (1, 0, 1), (1, 1, 0), (1, 1, 1)]\n",
      "8\n"
     ],
     "output_type": "stream"
    }
   ],
   "source": [
    "triples = [(x, y, z) for x in [0,1] for y in [0,1] for z in [0,1]]\n",
    "print(triples)\n",
    "print(len(triples))"
   ]
  },
  {
   "cell_type": "markdown",
   "metadata": {},
   "source": [
    "The problem requires that each triple must contain at least one 0 and one 1. We'll refer to such a triple as a good triple. Let `good_triples` be the list of good triples."
   ]
  },
  {
   "cell_type": "code",
   "execution_count": 13,
   "metadata": {
    "pycharm": {
     "is_executing": false
    }
   },
   "outputs": [
    {
     "name": "stdout",
     "text": [
      "[(0, 0, 1), (0, 1, 0), (0, 1, 1), (1, 0, 0), (1, 0, 1), (1, 1, 0)]\n",
      "6\n"
     ],
     "output_type": "stream"
    }
   ],
   "source": [
    "good_triples = [t for t in triples if 0 in t and 1 in t]\n",
    "print(good_triples)\n",
    "print(len(good_triples))"
   ]
  },
  {
   "cell_type": "markdown",
   "metadata": {},
   "source": [
    "We can represent the grid as a tuple of three rows where each row is itself a triple of 0's and 1's. We can limit consideration to just rows that are good triples. Let `grids` be the list of all grids whose rows are good triples. There are three rows in each grid and each row can be one of the 6 good triples. Therefore, there are $6^3 = 216$ possible grids."
   ]
  },
  {
   "cell_type": "code",
   "execution_count": 4,
   "metadata": {
    "pycharm": {
     "is_executing": false
    }
   },
   "outputs": [
    {
     "name": "stdout",
     "text": [
      "216\n"
     ],
     "output_type": "stream"
    }
   ],
   "source": [
    "grids = [(row1, row2, row3) for row1 in good_triples for row2 in good_triples for row3 in good_triples]\n",
    "print(len(grids))"
   ]
  },
  {
   "cell_type": "markdown",
   "metadata": {},
   "source": [
    "A grid is good is each of its rows and columns is good. \n",
    "Let `is_good_grid` be a function that takes a grid as an input argument and returns `True` if and only if the grid is good."
   ]
  },
  {
   "cell_type": "code",
   "execution_count": 5,
   "metadata": {
    "pycharm": {
     "is_executing": false
    }
   },
   "outputs": [
    {
     "name": "stdout",
     "text": [
      "True\n",
      "True\n",
      "False\n"
     ],
     "output_type": "stream"
    }
   ],
   "source": [
    "def is_good_grid(grid):\n",
    "    \n",
    "    # check the rows\n",
    "    if not grid in grids:\n",
    "        return False\n",
    "    \n",
    "    # check the columns\n",
    "    ((a, b, c), (d, e, f), (g, h, i)) = grid\n",
    "    return (a, d, g) in good_triples and (b, e, h) in good_triples and (c, f, i) in good_triples\n",
    "\n",
    "print(is_good_grid(((1, 0, 0), (0, 1, 0), (0, 0, 1))))\n",
    "\n",
    "print(is_good_grid(((1, 1, 0), (0, 1, 0), (0, 0, 1))))\n",
    "\n",
    "print(is_good_grid(((1, 1, 1), (0, 1, 0), (0, 0, 1))))"
   ]
  },
  {
   "cell_type": "markdown",
   "metadata": {},
   "source": [
    "Let `good_grids` be the list of good grids. The length of this list is the answer to the problem."
   ]
  },
  {
   "cell_type": "code",
   "execution_count": 6,
   "metadata": {
    "pycharm": {
     "is_executing": false
    }
   },
   "outputs": [
    {
     "name": "stdout",
     "text": [
      "102\n"
     ],
     "output_type": "stream"
    }
   ],
   "source": [
    "good_grids = [g for g in grids if is_good_grid(g)]\n",
    "print(len(good_grids))"
   ]
  },
  {
   "cell_type": "markdown",
   "metadata": {},
   "source": [
    "## Solving the problem mathematically\n",
    "\n",
    "Now that we have computed the answer using Python, let's solve it using mathematical reasoning. We'll still use Python to help describe the mathematical concepts. To start, it will be useful to print a grid nicely."
   ]
  },
  {
   "cell_type": "code",
   "execution_count": 7,
   "metadata": {
    "pycharm": {
     "is_executing": false
    }
   },
   "outputs": [
    {
     "name": "stdout",
     "text": [
      "0 0 1\n",
      "0 0 1\n",
      "1 1 0\n"
     ],
     "output_type": "stream"
    }
   ],
   "source": [
    "def print_grid(grid):\n",
    "    ((a, b, c), (d, e, f), (g, h, i)) = grid\n",
    "    print(a, b, c)\n",
    "    print(d, e, g)\n",
    "    print(g, h, i)\n",
    "\n",
    "print_grid(good_grids[0])"
   ]
  },
  {
   "cell_type": "markdown",
   "metadata": {},
   "source": [
    "Let $G$ be the number of good grids. This is what the problem is asking us to find. Above we observed that there are only 6 possibilities for the rows and therefore at most $6^3 = 216$ good grids. All of the candidate answers are less than 216 so we can't eliminate any of them immediately.\n",
    "\n",
    "Let's get more information about $G$. Observe that if we have one good grid, then we can easily find another, different, good grid by swapping 0s and and 1s. Therefore, every good grid has a twin. This means that $G$ must be a even number. Let $G_0$ be the number of good grids that have a 0 in the centre square.\n",
    "\n",
    "$$\n",
    "G = 2 G_0\n",
    "$$"
   ]
  },
  {
   "cell_type": "markdown",
   "metadata": {},
   "source": [
    "All the candidate solutions are even, so we still can't eliminate any of them. However, we now have simplified the problem a little since $G_0$ is half the size of $G$. So if we can compute $G_0$ then we know $G$. It might be easire to compute $G_0$.\n",
    "\n",
    "It's convenient to refer to the squares in the grid using the letters $a, b, \\dots, i$ as follows:\n",
    "\n",
    "$$\n",
    "\\begin{bmatrix}\n",
    "a & b & c \\\\\n",
    "d & e & f \\\\\n",
    "g & h & i\n",
    "\\end{bmatrix}\n",
    "$$"
   ]
  },
  {
   "cell_type": "markdown",
   "metadata": {},
   "source": [
    "Now let's just consider grids that have 0 in the centre, i.e. grids with $e = 0$.\n",
    "\n",
    "$$\n",
    "\\begin{bmatrix}\n",
    "a & b & c \\\\\n",
    "d & 0 & f \\\\\n",
    "g & h & i\n",
    "\\end{bmatrix}\n",
    "$$"
   ]
  },
  {
   "cell_type": "markdown",
   "metadata": {},
   "source": [
    "There are other symmetries in the grid. For example, if we have a good grid with $e = 0$ \n",
    "then we can exchange the top and bottom rows and get another good grid with $e = 0$.\n",
    "\n",
    "$$\n",
    "\\begin{bmatrix}\n",
    "g & h & i \\\\\n",
    "d & 0 & f \\\\\n",
    "a & b & c\n",
    "\\end{bmatrix}\n",
    "$$"
   ]
  },
  {
   "cell_type": "markdown",
   "metadata": {},
   "source": [
    "Unfortunately, we might not get a different grid after the top-bottom swap.\n",
    "For example, the following good grid is unchanged after a top-bottom row swap.\n",
    "\n",
    "$$\n",
    "\\begin{bmatrix}\n",
    "0 & 1 & 0 \\\\\n",
    "1 & 0 & 1 \\\\\n",
    "0 & 1 & 0\n",
    "\\end{bmatrix}\n",
    "$$\n",
    "\n",
    "It is also unchanged after a left-right column swap."
   ]
  },
  {
   "cell_type": "markdown",
   "metadata": {},
   "source": [
    "To make further progress, let's consider square $b$. It's either 0 or 1. We'll analyze each case. We need some notation to keep track of the cases. Let's write $G_0 = [e = 0]$ so that we make our cases explicit. \n",
    "\n",
    "$$\n",
    "G = 2 [e=0]\n",
    "$$"
   ]
  },
  {
   "cell_type": "markdown",
   "metadata": {},
   "source": [
    "Since there are two cases for $b$, namely $b=0$ or $b=1$, we have\n",
    "\n",
    "$$\n",
    "[e=0] = [e=0,b=0] + [e=0,b=1]\n",
    "$$"
   ]
  },
  {
   "cell_type": "markdown",
   "metadata": {},
   "source": [
    "Now consider the case $b=0$. This forces the value $h = 1$\n",
    "\n",
    "$$\n",
    "\\begin{bmatrix}\n",
    "a & 0 & c \\\\\n",
    "d & 0 & f \\\\\n",
    "g & 1 & i\n",
    "\\end{bmatrix}\n",
    "$$"
   ]
  },
  {
   "cell_type": "markdown",
   "metadata": {},
   "source": [
    "Unfortunatley, this does not appear to lead to any useful simplification. In fact, there is really nothing special about the centre square $e$. Given a good grid, we could perform an arbitrary permuation of the rows or the colums, and still have a good grid, although possibly not a different one."
   ]
  },
  {
   "cell_type": "markdown",
   "metadata": {},
   "source": [
    "Let's take a different approach. Observe that since each row must have at least one 0, the total number of 0s must be at least 3, in which case there are 6 1s. Similarly there must be at least 3 1s and at most 6 0s. We can therefore count the solutions for each possible number of 0s, namely 3, 4, 5, and 6. Let $G_n$ be the number of good grids that have exactly $n$ 0s.\n",
    "\n",
    "$$\n",
    "G = G_3 + G_4 + G_5 + G_6\n",
    "$$"
   ]
  },
  {
   "cell_type": "markdown",
   "metadata": {},
   "source": [
    "Now consider 0-1 swaps. If there are $n$ 0s in the grid, there must be $9-n$ 1s. So swapping 0 and 1 sends $n$ to $9-n$. Explicitly, the number of good grids that have 3 0s and 6 1s is the same as the number of good grids that have 6 0s and 3 1s, i.e. $G_3 = G_6$. Similarly $G_4 = G_5$. Therefore\n",
    "\n",
    "$$\n",
    "G = G_3 + G_4 + G_4 + G_3 = 2(G_3 + G_4)\n",
    "$$"
   ]
  },
  {
   "cell_type": "markdown",
   "metadata": {},
   "source": [
    "Now let's consider $G_3$. Each row and each column must have a 0. Here's an example\n",
    "\n",
    "$$\n",
    "\\begin{bmatrix}\n",
    "0 & 1 & 1 \\\\\n",
    "1 & 0 & 1 \\\\\n",
    "1 & 1 & 0\n",
    "\\end{bmatrix}\n",
    "$$"
   ]
  },
  {
   "cell_type": "markdown",
   "metadata": {},
   "source": [
    "Now consider the other good grids that have exactly 3 0s.\n",
    "There are 3 possible columns for the 0 in row 1. For each of those, there are 2 possible columns for the 0 in row 2. This forces the column for the 0 in row 3. Therefore, there are 6 distinct good grids that have exactly 3 0s.\n",
    "\n",
    "$$\n",
    "G_3 = 6\n",
    "$$"
   ]
  },
  {
   "cell_type": "markdown",
   "metadata": {},
   "source": [
    "Now consider $G_4$. One row must have 2 0s and the other two rows must have 1 0.\n",
    "Clearly, one of these rows must be in the column that does not contain the 0s in the doubled row. There are two cases to consider here according to where the final 0 goes, namely in the same column as the single 0 or in one of the columns of the doubled 0. \n",
    "\n",
    "Here is an example of case 1:\n",
    "\n",
    "$$\n",
    "\\begin{bmatrix}\n",
    "0 & 0 & 1 \\\\\n",
    "1 & 1 & 0 \\\\\n",
    "1 & 1 & 0\n",
    "\\end{bmatrix}\n",
    "$$\n",
    "\n",
    "Here is an example of case 2:\n",
    "\n",
    "$$\n",
    "\\begin{bmatrix}\n",
    "0 & 0 & 1 \\\\\n",
    "1 & 1 & 0 \\\\\n",
    "1 & 0 & 1\n",
    "\\end{bmatrix}\n",
    "$$\n",
    "\n",
    "Let $G_{41}$ and $G_{42}$ be the numbers of good grids for cases 1 and 2. \n",
    "\n",
    "$$\n",
    "G_4 = G_{41} + G_{42}\n",
    "$$"
   ]
  },
  {
   "cell_type": "markdown",
   "metadata": {},
   "source": [
    "For case 1 we can find all the good grids by permuting the rows and colums of the example. There are only two distinct rows so the number of distinct row permutations is just 3. Similary, there are only 2 distinct columns so there are only 3 distinct column permutations.\n",
    "\n",
    "$$\n",
    "G_{41} = 3 \\times 3 = 9\n",
    "$$"
   ]
  },
  {
   "cell_type": "markdown",
   "metadata": {},
   "source": [
    "Similarly, for case 2 there are 3 distinct rows and so 6 distinct row permuations. There are 3 distinct columns and therefore 6 distinct column permutations.\n",
    "\n",
    "$$\n",
    "G_{42} = 6 \\times 6 = 36\n",
    "$$"
   ]
  },
  {
   "cell_type": "markdown",
   "metadata": {},
   "source": [
    "Therefore\n",
    "\n",
    "$$\n",
    "G_4 = G_{41} + G_{42} = 9 + 36 = 45\n",
    "$$\n",
    "\n",
    "and\n",
    "\n",
    "$$\n",
    "G = 2(G_3 + G_4) = 2(6 + 45) = 2 \\times 51 = 102\n",
    "$$\n",
    "\n"
   ]
  },
  {
   "cell_type": "markdown",
   "metadata": {},
   "source": [
    "## Generating permutations using Python\n",
    "\n",
    "The mathematical solution used the concept of permuations. \n",
    "Permutations apply to ordered collections of objects. \n",
    "A permutation changes the order of the objects but not the underlying set of objects.\n",
    "In Python, the most common ordered collections are lists and tuples.\n",
    "The objects in an ordered collection can be accessed by their numerical position within the collection,\n",
    "where the first position in the collection is given the number 0.\n",
    "We can therefore represent a permutation by given a list of the new positions of the objects.\n",
    "\n",
    "For example, supposed we have the a line-up at a movie theatre.\n",
    "Let `lineup` be a list of people."
   ]
  },
  {
   "cell_type": "code",
   "execution_count": 8,
   "metadata": {
    "pycharm": {
     "is_executing": false
    }
   },
   "outputs": [],
   "source": [
    "lineup = ['Sean', 'Katy', 'Cameron', 'Dylan', 'Sterling']"
   ]
  },
  {
   "cell_type": "markdown",
   "metadata": {},
   "source": [
    "Now suppose we want to arrange these people in alphabetical order."
   ]
  },
  {
   "cell_type": "code",
   "execution_count": 9,
   "metadata": {
    "pycharm": {
     "is_executing": false
    }
   },
   "outputs": [
    {
     "name": "stdout",
     "text": [
      "['Cameron', 'Dylan', 'Katy', 'Sean', 'Sterling']\n"
     ],
     "output_type": "stream"
    }
   ],
   "source": [
    "sorted_lineup = sorted(lineup)\n",
    "print(sorted_lineup)"
   ]
  },
  {
   "cell_type": "markdown",
   "metadata": {},
   "source": [
    "We can describe the sorted lineup as a permutation of the original lineup by finding the new position of each person."
   ]
  },
  {
   "cell_type": "code",
   "execution_count": 10,
   "metadata": {
    "pycharm": {
     "is_executing": false
    }
   },
   "outputs": [
    {
     "name": "stdout",
     "text": [
      "[3, 2, 0, 1, 4]\n"
     ],
     "output_type": "stream"
    }
   ],
   "source": [
    "perm = [sorted_lineup.index(person) for person in lineup]\n",
    "print(perm)"
   ]
  },
  {
   "cell_type": "markdown",
   "metadata": {},
   "source": [
    "Given the permuation, we can apply it to the original lineup to get the sorted lineup."
   ]
  },
  {
   "cell_type": "code",
   "execution_count": 11,
   "metadata": {
    "pycharm": {
     "is_executing": false
    }
   },
   "outputs": [
    {
     "name": "stdout",
     "text": [
      "['Cameron', 'Dylan', 'Katy', 'Sean', 'Sterling']\n"
     ],
     "output_type": "stream"
    }
   ],
   "source": [
    "apply_perm_to_lineup = [None] * len(lineup)\n",
    "for i, j in enumerate(perm):\n",
    "    apply_perm_to_lineup[j] = lineup[i]\n",
    "print(apply_perm_to_lineup)"
   ]
  },
  {
   "cell_type": "code",
   "execution_count": 12,
   "metadata": {
    "pycharm": {
     "is_executing": false
    }
   },
   "outputs": [
    {
     "data": {
      "text/plain": "True"
     },
     "metadata": {},
     "output_type": "execute_result",
     "execution_count": 12
    }
   ],
   "source": [
    "sorted_lineup == apply_perm_to_lineup"
   ]
  }
 ],
 "metadata": {
  "kernelspec": {
   "display_name": "Python 3",
   "language": "python",
   "name": "python3"
  },
  "language_info": {
   "codemirror_mode": {
    "name": "ipython",
    "version": 3
   },
   "file_extension": ".py",
   "mimetype": "text/x-python",
   "name": "python",
   "nbconvert_exporter": "python",
   "pygments_lexer": "ipython3",
   "version": "3.7.6"
  }
 },
 "nbformat": 4,
 "nbformat_minor": 1
}