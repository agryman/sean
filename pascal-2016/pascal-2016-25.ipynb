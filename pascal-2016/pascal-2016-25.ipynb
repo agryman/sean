{
 "cells": [
  {
   "cell_type": "markdown",
   "metadata": {
    "collapsed": true
   },
   "source": [
    "# 2016 Pascal Contest, Question 25\n",
    "\n",
    "This notebook discusses the solution to question 25.\n",
    "\n",
    "<img src=\"pascal-2016-question-25.pdf\" width=\"100%\">"
   ]
  },
  {
   "cell_type": "markdown",
   "metadata": {},
   "source": [
    "## Representing grids in Python\n",
    "\n",
    "We can represent a grid row as a triple of objects in left to right order."
   ]
  },
  {
   "cell_type": "code",
   "execution_count": 1,
   "metadata": {},
   "outputs": [
    {
     "name": "stdout",
     "output_type": "stream",
     "text": [
      "(1, 2, 3)\n"
     ]
    }
   ],
   "source": [
    "row_123 = 1, 2, 3\n",
    "print(row_123)"
   ]
  },
  {
   "cell_type": "markdown",
   "metadata": {},
   "source": [
    "We represent a whole grid as a triple of rows in top to bottom order."
   ]
  },
  {
   "cell_type": "code",
   "execution_count": 2,
   "metadata": {},
   "outputs": [
    {
     "name": "stdout",
     "output_type": "stream",
     "text": [
      "((1, 2, 3), (4, 5, 6), (7, 8, 9))\n"
     ]
    }
   ],
   "source": [
    "row_top = 1, 2, 3\n",
    "row_middle = 4, 5, 6\n",
    "row_bottom = 7, 8, 9\n",
    "grid_tmb = row_top, row_middle, row_bottom\n",
    "print(grid_tmb)"
   ]
  },
  {
   "cell_type": "markdown",
   "metadata": {},
   "source": [
    "## Printing grids nicely\n",
    "\n",
    "It will be useful to print a grid nicely, as a square.\n",
    "Let's assume that the grid contains single digits or characters so they do form a square \n",
    "when printed."
   ]
  },
  {
   "cell_type": "code",
   "execution_count": 3,
   "metadata": {
    "pycharm": {
     "is_executing": false
    }
   },
   "outputs": [
    {
     "name": "stdout",
     "output_type": "stream",
     "text": [
      "a b c\n",
      "d e g\n",
      "g h i\n"
     ]
    }
   ],
   "source": [
    "def print_grid(grid):\n",
    "    (a, b, c), (d, e, f), (g, h, i) = grid\n",
    "    print(a, b, c)\n",
    "    print(d, e, g)\n",
    "    print(g, h, i)\n",
    "\n",
    "grid_abc = ('a', 'b', 'c'), ('d', 'e', 'f'), ('g', 'h', 'i')\n",
    "print_grid(grid_abc)"
   ]
  },
  {
   "cell_type": "markdown",
   "metadata": {},
   "source": [
    "## Solving the problem by counting the grids using Python\n",
    "\n",
    "The problem talks about rows and columns that contain 0's and 1's. We can represent these as Python tuples of integers. Since rows and column contain exactly three elements, we'll refer to them as triples. Let `triples` be the list of all possible triples that contain just 0's and 1's. Since each element of a triple can take two distinct values there are $2^3 = 8$ possible triples."
   ]
  },
  {
   "cell_type": "code",
   "execution_count": 4,
   "metadata": {
    "pycharm": {
     "is_executing": false
    }
   },
   "outputs": [
    {
     "name": "stdout",
     "output_type": "stream",
     "text": [
      "[(0, 0, 0), (0, 0, 1), (0, 1, 0), (0, 1, 1), (1, 0, 0), (1, 0, 1), (1, 1, 0), (1, 1, 1)]\n",
      "8\n"
     ]
    }
   ],
   "source": [
    "triples = [(x, y, z) for x in [0, 1] for y in [0, 1] for z in [0, 1]]\n",
    "print(triples)\n",
    "print(len(triples))"
   ]
  },
  {
   "cell_type": "markdown",
   "metadata": {},
   "source": [
    "The problem requires that each triple must contain at least one 0 and one 1. We'll refer to such a triple as a good triple. Let `good_triples` be the list of good triples."
   ]
  },
  {
   "cell_type": "code",
   "execution_count": 5,
   "metadata": {
    "pycharm": {
     "is_executing": false
    }
   },
   "outputs": [
    {
     "name": "stdout",
     "output_type": "stream",
     "text": [
      "[(0, 0, 1), (0, 1, 0), (0, 1, 1), (1, 0, 0), (1, 0, 1), (1, 1, 0)]\n",
      "6\n"
     ]
    }
   ],
   "source": [
    "good_triples = [t for t in triples if 0 in t and 1 in t]\n",
    "print(good_triples)\n",
    "print(len(good_triples))"
   ]
  },
  {
   "cell_type": "markdown",
   "metadata": {},
   "source": [
    "We can represent the grid as a tuple of three rows where each row is itself a triple of 0's and 1's. We can limit consideration to just rows that are good triples. Let `grids` be the list of all grids whose rows are good triples. There are three rows in each grid and each row can be one of the 6 good triples. Therefore, there are $6^3 = 216$ possible grids."
   ]
  },
  {
   "cell_type": "code",
   "execution_count": 6,
   "metadata": {
    "pycharm": {
     "is_executing": false
    }
   },
   "outputs": [
    {
     "name": "stdout",
     "output_type": "stream",
     "text": [
      "216\n"
     ]
    }
   ],
   "source": [
    "grids = [(row1, row2, row3) for row1 in good_triples for row2 in good_triples for row3 in good_triples]\n",
    "print(len(grids))"
   ]
  },
  {
   "cell_type": "markdown",
   "metadata": {},
   "source": [
    "A grid is good is each of its rows and columns is good. \n",
    "Let `is_good_grid` be a function that takes a grid as an input argument and returns `True` if and only if the grid is good."
   ]
  },
  {
   "cell_type": "code",
   "execution_count": 7,
   "metadata": {
    "pycharm": {
     "is_executing": false,
     "name": "#%%\n"
    }
   },
   "outputs": [
    {
     "name": "stdout",
     "output_type": "stream",
     "text": [
      "1 0 0\n",
      "0 1 0\n",
      "0 0 1\n",
      "True \n",
      "\n",
      "1 1 0\n",
      "0 1 0\n",
      "0 0 1\n",
      "True \n",
      "\n",
      "1 1 1\n",
      "0 1 0\n",
      "0 0 1\n",
      "False\n"
     ]
    }
   ],
   "source": [
    "def is_good_grid(grid):\n",
    "    \n",
    "    # check the rows\n",
    "    if not grid in grids:\n",
    "        return False\n",
    "    \n",
    "    # check the columns\n",
    "    (a, b, c), (d, e, f), (g, h, i) = grid\n",
    "    return \\\n",
    "        (a, d, g) in good_triples and \\\n",
    "        (b, e, h) in good_triples and \\\n",
    "        (c, f, i) in good_triples\n",
    "\n",
    "grid_100 = (1, 0, 0), (0, 1, 0), (0, 0, 1)\n",
    "print_grid(grid_100)\n",
    "print(is_good_grid(grid_100), '\\n')\n",
    "\n",
    "grid_110 = (1, 1, 0), (0, 1, 0), (0, 0, 1)\n",
    "print_grid(grid_110)\n",
    "print(is_good_grid(grid_110), '\\n')\n",
    "\n",
    "grid_111 = (1, 1, 1), (0, 1, 0), (0, 0, 1)\n",
    "print_grid(grid_111)\n",
    "print(is_good_grid(grid_111))"
   ]
  },
  {
   "cell_type": "markdown",
   "metadata": {},
   "source": [
    "Let `good_grids` be the list of good grids."
   ]
  },
  {
   "cell_type": "code",
   "execution_count": 8,
   "metadata": {
    "pycharm": {
     "is_executing": false,
     "name": "#%%\n"
    }
   },
   "outputs": [
    {
     "name": "stdout",
     "output_type": "stream",
     "text": [
      "0 0 1\n",
      "0 0 1\n",
      "1 1 0\n",
      "\n",
      "0 0 1\n",
      "0 1 1\n",
      "1 0 0\n",
      "\n",
      "0 0 1\n",
      "0 1 1\n",
      "1 0 1\n",
      "\n"
     ]
    }
   ],
   "source": [
    "good_grids = [g for g in grids if is_good_grid(g)]\n",
    "\n",
    "# print the first 3 good grids\n",
    "for g in good_grids[:3]:\n",
    "    print_grid(g)\n",
    "    print()"
   ]
  },
  {
   "cell_type": "markdown",
   "metadata": {
    "pycharm": {
     "is_executing": false
    }
   },
   "source": [
    "The length of this list is the answer to the problem."
   ]
  },
  {
   "cell_type": "code",
   "execution_count": 9,
   "metadata": {
    "pycharm": {
     "is_executing": false,
     "name": "#%%\n"
    }
   },
   "outputs": [
    {
     "name": "stdout",
     "output_type": "stream",
     "text": [
      "102\n"
     ]
    }
   ],
   "source": [
    "print(len(good_grids))"
   ]
  },
  {
   "cell_type": "markdown",
   "metadata": {},
   "source": [
    "## Solving the problem mathematically\n",
    "\n",
    "Now that we have computed the answer using Python, let's solve it using mathematical reasoning. We'll still use Python to help describe the mathematical concepts. "
   ]
  },
  {
   "cell_type": "markdown",
   "metadata": {},
   "source": [
    "Let $G$ be the number of good grids. This is what the problem is asking us to find. Above we observed that there are only 6 possibilities for the rows and therefore at most $6^3 = 216$ good grids. All of the candidate answers are less than 216 so we can't eliminate any of them immediately."
   ]
  },
  {
   "cell_type": "markdown",
   "metadata": {},
   "source": [
    "## Swapping 0s and 1s\n",
    "\n",
    "Let's get more information about $G$. Observe that if we have one good grid, then we can easily find another, different, good grid by swapping 0s and and 1s. Therefore, every good grid has a twin. This means that $G$ must be a even number. \n",
    "\n",
    "We can focus on counting the members half the set of good grids.\n",
    "The number of positions in the grid is 9 which is an odd number.\n",
    "Therefore there can never be the same number of 0s and 1s.\n",
    "Furthermore more, when we swap 0s and 1s, their counts swap.\n",
    "This means we can focus on just the good grids that have less 0s than 1s.\n",
    "For every such good grid its twin will have more 0s than 1s.\n",
    "Let $G_0$ be the number of good grids that have less 0s than 1s.\n",
    "\n",
    "$$\n",
    "G = 2 G_0\n",
    "$$"
   ]
  },
  {
   "cell_type": "markdown",
   "metadata": {},
   "source": [
    "All the candidate solutions are even, so we still can't eliminate any of them. However, we now have simplified the problem a little since $G_0$ is half the size of $G$. So if we can compute $G_0$ then we know $G$. It might be easier to compute $G_0$."
   ]
  },
  {
   "cell_type": "markdown",
   "metadata": {},
   "source": [
    "## Swapping rows and swapping columns\n",
    "\n",
    "Above we observed that swapping 0s and 1s transforms one good grid to another good grid.\n",
    "Mathematicians refer to this as a *symmetry*.\n",
    "There are other symmetries of the set of good grids. For example, if we have a good grid\n",
    "then we can swap any pair of rows and get another good grid.\n",
    "Similarly, we can swap any pair of columns."
   ]
  },
  {
   "cell_type": "markdown",
   "metadata": {},
   "source": [
    "Observe that since each row must have at least one 0, the total number of 0s must be at least 3, in which case there are 6 1s. Similarly there must be at least 3 1s and at most 6 0s. We can therefore count the solutions for each possible number of 0s, namely 3, 4, 5, and 6. Let $G_n$ be the number of good grids that have exactly $n$ 0s.\n",
    "\n",
    "$$\n",
    "G = G_3 + G_4 + G_5 + G_6\n",
    "$$\n",
    "\n",
    "Clearly\n",
    "\n",
    "$$\n",
    "G_0 = G_3 + G_4\n",
    "$$"
   ]
  },
  {
   "cell_type": "markdown",
   "metadata": {},
   "source": [
    "Now consider 0-1 swaps. If there are $n$ 0s in the grid, there must be $9-n$ 1s. So swapping 0 and 1 sends $n$ to $9-n$. Explicitly, the number of good grids that have 3 0s and 6 1s is the same as the number of good grids that have 6 0s and 3 1s, i.e. $G_3 = G_6$. Similarly $G_4 = G_5$. Therefore\n",
    "\n",
    "$$\n",
    "G = G_3 + G_4 + G_4 + G_3 = 2(G_3 + G_4) = 2 G_0\n",
    "$$"
   ]
  },
  {
   "cell_type": "markdown",
   "metadata": {},
   "source": [
    "Now let's consider $G_3$. Each row and each column must have a 0. Here's an example:"
   ]
  },
  {
   "cell_type": "code",
   "execution_count": 10,
   "metadata": {
    "pycharm": {
     "name": "#%%\n"
    }
   },
   "outputs": [
    {
     "name": "stdout",
     "output_type": "stream",
     "text": [
      "0 1 1\n",
      "1 0 1\n",
      "1 1 0\n"
     ]
    }
   ],
   "source": [
    "grid_3 = (0, 1, 1), (1, 0, 1), (1, 1, 0)\n",
    "print_grid(grid_3)"
   ]
  },
  {
   "cell_type": "markdown",
   "metadata": {},
   "source": [
    "Now consider the other good grids that have exactly 3 0s.\n",
    "There are 3 possible columns for the 0 in row 1. For each of those, there are 2 possible columns for the 0 in row 2. This forces the column for the 0 in row 3. Therefore, there are 6 distinct good grids that have exactly 3 0s.\n",
    "\n",
    "$$\n",
    "G_3 = 6\n",
    "$$"
   ]
  },
  {
   "cell_type": "markdown",
   "metadata": {},
   "source": [
    "Now consider $G_4$. One row must have 2 0s and the other two rows must have 1 0.\n",
    "Clearly, one of these rows must be in the column that does not contain the 0s in the doubled row. There are two cases to consider here according to where the final 0 goes, namely in the same column as the single 0 or in one of the columns of the doubled 0. \n",
    "\n",
    "Here is an example of case 1:"
   ]
  },
  {
   "cell_type": "code",
   "execution_count": 11,
   "metadata": {
    "pycharm": {
     "name": "#%%\n"
    }
   },
   "outputs": [
    {
     "name": "stdout",
     "output_type": "stream",
     "text": [
      "0 0 1\n",
      "1 1 1\n",
      "1 1 0\n"
     ]
    }
   ],
   "source": [
    "grid_41 = (0, 0, 1), (1, 1, 0), (1, 1, 0)\n",
    "print_grid(grid_41)"
   ]
  },
  {
   "cell_type": "markdown",
   "metadata": {
    "pycharm": {
     "name": "#%% md\n"
    }
   },
   "source": [
    "Here is an example of case 2:"
   ]
  },
  {
   "cell_type": "code",
   "execution_count": 12,
   "metadata": {
    "pycharm": {
     "name": "#%%\n"
    }
   },
   "outputs": [
    {
     "name": "stdout",
     "output_type": "stream",
     "text": [
      "0 0 1\n",
      "1 1 1\n",
      "1 0 1\n"
     ]
    }
   ],
   "source": [
    "grid_42 = (0, 0, 1), (1, 1, 0), (1, 0, 1)\n",
    "print_grid(grid_42)"
   ]
  },
  {
   "cell_type": "markdown",
   "metadata": {
    "pycharm": {
     "name": "#%% md\n"
    }
   },
   "source": [
    "Let $G_{41}$ and $G_{42}$ be the numbers of good grids for cases 1 and 2. \n",
    "\n",
    "$$\n",
    "G_4 = G_{41} + G_{42}\n",
    "$$"
   ]
  },
  {
   "cell_type": "markdown",
   "metadata": {},
   "source": [
    "For case 1 we can find all the good grids by permuting the rows and colums of the example. There are only two distinct rows so the number of distinct row permutations is just 3. Similary, there are only 2 distinct columns so there are only 3 distinct column permutations.\n",
    "\n",
    "$$\n",
    "G_{41} = 3 \\times 3 = 9\n",
    "$$"
   ]
  },
  {
   "cell_type": "markdown",
   "metadata": {
    "pycharm": {
     "name": "#%% md\n"
    }
   },
   "source": [
    "Similarly, for case 2 there are 3 distinct rows and so 6 distinct row permuations. There are 3 distinct columns and therefore 6 distinct column permutations.\n",
    "\n",
    "$$\n",
    "G_{42} = 6 \\times 6 = 36\n",
    "$$"
   ]
  },
  {
   "cell_type": "markdown",
   "metadata": {
    "pycharm": {
     "name": "#%% md\n"
    }
   },
   "source": [
    "Therefore\n",
    "\n",
    "$$\n",
    "G_4 = G_{41} + G_{42} = 9 + 36 = 45\n",
    "$$\n",
    "\n",
    "and\n",
    "\n",
    "$$\n",
    "G = 2(G_3 + G_4) = 2(6 + 45) = 2 \\times 51 = 102\n",
    "$$\n",
    "\n"
   ]
  }
 ],
 "metadata": {
  "kernelspec": {
   "display_name": "Python 3",
   "language": "python",
   "name": "python3"
  },
  "language_info": {
   "codemirror_mode": {
    "name": "ipython",
    "version": 3
   },
   "file_extension": ".py",
   "mimetype": "text/x-python",
   "name": "python",
   "nbconvert_exporter": "python",
   "pygments_lexer": "ipython3",
   "version": "3.7.6"
  }
 },
 "nbformat": 4,
 "nbformat_minor": 1
}