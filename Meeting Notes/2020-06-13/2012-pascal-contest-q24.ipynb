{
 "cells": [
  {
   "cell_type": "markdown",
   "metadata": {},
   "source": [
    "# 2012 Pascal Contest - Question 24"
   ]
  },
  {
   "cell_type": "markdown",
   "metadata": {},
   "source": [
    "<img src='images/2012-pascal-contest-q24.png'>"
   ]
  },
  {
   "cell_type": "markdown",
   "metadata": {},
   "source": [
    "Use the variables $q, r, s, t, u, v, w, x, y$ to denote the values in all nine circles.\n",
    "\n",
    "<img src='images/2012-pascal-contest-q24-variables.png'>\n",
    "\n",
    "Let $C$ denote the sum of the three integers along each line. \n",
    "The following four equations hold.\n",
    "\n",
    "$$\n",
    "\\begin{align}\n",
    "q + r + s &= C \\\\\n",
    "s + t + u &= C \\\\\n",
    "u + v + w &= C \\\\\n",
    "w + x + y &= C\n",
    "\\end{align}\n",
    "$$"
   ]
  },
  {
   "cell_type": "markdown",
   "metadata": {},
   "source": [
    "We are going to do some arithmetic, but the values $2012, 2013, \\dots, 2020$ are somewhat large.\n",
    "However, we can solve the problem using reduced values $q', r', \\dots, y'$ and then convert that answer to the solution of the original problem.\n",
    "Observe that if we reduce the nine consecutive integers each by the same amount, \n",
    "say $M$, so \n",
    "\n",
    "$$\n",
    "\\begin{align}\n",
    "q' &= q - M \\\\\n",
    "r' &= r - M \\\\\n",
    "   &\\vdots \\\\\n",
    "y' &= y - M\n",
    "\\end{align}\n",
    "$$\n",
    "\n",
    "then the reduced integers are still consecutive and their sums along the four lines, will still be equal, say $C'$, although now this constant will be reduced by $3M$\n",
    "compared to $C$. \n",
    "For example, consider the line formed by $q', r', s'$:\n",
    "\n",
    "$$\n",
    "\\begin{split}\n",
    "C'  &= q' + r' + s' \\\\\n",
    "    &= q - M + r - M + s - M \\\\\n",
    "    &= q + r + s - 3M \\\\\n",
    "    &= C - 3M\n",
    "\\end{split}\n",
    "$$\n",
    "\n",
    "and similarly for the other three lines."
   ]
  },
  {
   "cell_type": "markdown",
   "metadata": {},
   "source": [
    "Take $M$ to be the average value of the original integers:\n",
    "\n",
    "$$\n",
    "M = (2012 + 2020)/2 = 2016\n",
    "$$\n",
    "\n",
    "With $M = 2016$, the reduced integers are $-4, -3, -2, -1, 0, 1, 2, 3, 4$.\n",
    "Note that the sum of these values is $0$.\n",
    "Therefore any arrangement of these integers also sums to $0$:\n",
    "\n",
    "$$\n",
    "q' + r' + s' + t' + u' + v' + w' + x' + y' = 0\n",
    "$$"
   ]
  },
  {
   "cell_type": "markdown",
   "metadata": {},
   "source": [
    "The line sum equations in terms of the reduced variables are:\n",
    "\n",
    "$$\n",
    "\\begin{align}\n",
    "q' + r' + s' &= C' \\\\\n",
    "s' + t' + u' &= C' \\\\\n",
    "u' + v' + w' &= C' \\\\\n",
    "w' + x' + y' &= C'\n",
    "\\end{align}\n",
    "$$\n",
    "\n",
    "Add these four equations together.\n",
    "\n",
    "$$\n",
    "\\begin{split}\n",
    "4C' &= q' + r' + s' + s' + t' + u' + u' + v' + w' + w' + x' + y' \\\\\n",
    "    &= (q' + r' + s' + t' + u' + v' + w' + x' + y') + s' + u' + w' \\\\\n",
    "    &= s' + u' + w'\n",
    "\\end{split}\n",
    "$$\n",
    "\n",
    "Therefore in any solution, $s' + u' + w'$ must be a multiple of $4$."
   ]
  },
  {
   "cell_type": "markdown",
   "metadata": {},
   "source": [
    "The line sum $C'$ takes its smallest value when $s', u', w'$ are as negative as possible, while still summing to a multiple of $4$.\n",
    "The smallest multiple of $4$ that can be formed from the reduced integers occurs for the values $-4, -3, -1$.\n",
    "In this case we have:\n",
    "\n",
    "$$\n",
    "4C' = -4 + -3 + -1 = -8\n",
    "$$\n",
    "\n",
    "Therefore $C' = -2$, which may or may not actually occur for some solution.\n",
    "\n",
    "Now try to find solutions that have $C' = -2$.\n",
    "\n",
    "Note that the problem has left-right symmetry in the sense that if we have one solution\n",
    "we can find another one by interchanging the values under left-right reflection by a mirror through\n",
    "$u'$. Therefore we can just look for solutions with $s' < w'$ since we obtain the other\n",
    "solution by reflection.\n",
    "\n",
    "Also note that, given a solution, we can swap $q'$ with $r'$ or $x'$ with $y'$\n",
    "to get another solution. So just look for solutions with $q' < r'$ and $x' < y'$.\n",
    "\n",
    "## Case 1: $u' = -4, s' = -3, w' = -1$\n",
    "\n",
    "This case is impossible since\n",
    "\n",
    "$$\n",
    "\\begin{split}\n",
    "-2  &= s' + t' + u' \\\\\n",
    "    &= -3 + t' + -4 \\\\\n",
    "    &= -7 + t' \\\\\n",
    "    &\\implies t' = 5\n",
    "\\end{split}\n",
    "$$\n",
    "\n",
    "But $t' = 5$ is not allowed.\n",
    "\n",
    "## Case 2: $u' = -3, s' = -4, w' = -1$\n",
    "\n",
    "This case is also impossible for the same reason as Case 1.\n",
    "\n",
    "## Case 3: $u' = -1, s' = -4, w' = -3$\n",
    "\n",
    "Solve the line equations to find the other values.\n",
    "\n",
    "Solve for $t' \\in \\{ -2, 0, 1, 2, 3, 4 \\}$:\n",
    "\n",
    "$$\n",
    "\\begin{split}\n",
    "-2  &= s' + t' + u' \\\\\n",
    "    &= -4 + t' + -1 \\\\\n",
    "    &= -5 + t' \\\\\n",
    "    &\\implies t' = 3\n",
    "\\end{split}\n",
    "$$\n",
    "\n",
    "Solve for $v' \\in \\{ -2, 0, 1, 2, 4 \\}$:\n",
    "\n",
    "$$\n",
    "\\begin{split}\n",
    "-2  &= u' + v' + w' \\\\\n",
    "    &= -1 + v' + -3 \\\\\n",
    "    &= -4 + v' \\\\\n",
    "    &\\implies v' = 2\n",
    "\\end{split}\n",
    "$$\n",
    "\n",
    "Solve for $q', r' \\in \\{ -2, 0, 1, 4 \\}$ with $q' < r'$:\n",
    "\n",
    "$$\n",
    "\\begin{split}\n",
    "-2  &= q' + r' + s' \\\\\n",
    "    &= q' + r' + -4 \\\\\n",
    "    &\\implies q' + r' = 2 \\\\\n",
    "    &\\implies q' = -2, r' = 4\n",
    "\\end{split}\n",
    "$$\n",
    "\n",
    "Solve for $x', y'\\in \\{ 0, 1 \\}$ with $x' < y'$:\n",
    "\n",
    "$$\n",
    "\\begin{split}\n",
    "-2  &= w' + x' + y' \\\\\n",
    "    &= -3 + x' + y' \\\\\n",
    "    &\\implies x' + y' = 1 \\\\\n",
    "    &\\implies x' = 0, y' = 1\n",
    "\\end{split}\n",
    "$$"
   ]
  },
  {
   "cell_type": "markdown",
   "metadata": {},
   "source": [
    "Therefore $u' = -1$ for the solutions that give the smallest value of $C'$. \n",
    "\n",
    "The solution to the original problem is therefore:\n",
    "\n",
    "$$\n",
    "\\begin{split}\n",
    "u   &= u' + M \\\\\n",
    "    &= -1 + 2016 \\\\\n",
    "    &= 2015\n",
    "\\end{split}\n",
    "$$"
   ]
  },
  {
   "cell_type": "markdown",
   "metadata": {},
   "source": [
    "## Python Solution\n",
    "\n",
    "Let's now check the preceding solution by writing a Python program.\n",
    "First let's try a brute force approach, namely we'll simply generate every possible arrangement of \n",
    "the nine consecutive integers, check the line sums, and keep the solutions.\n",
    "The total number of arrangements of nine things is $9!$.\n",
    "Let's see how big this number is using the built-in function `math.factorial`."
   ]
  },
  {
   "cell_type": "code",
   "execution_count": 1,
   "metadata": {},
   "outputs": [],
   "source": [
    "import math\n",
    "\n",
    "math.factorial(9)"
   ]
  },
  {
   "cell_type": "markdown",
   "metadata": {},
   "source": [
    "We see that $9! = 362880$, which is not huge. We could easily store a list of that length in memory.\n",
    "\n",
    "Python has a built-in function `itertools.permutaions`\n",
    "to generate all permutations of a list."
   ]
  },
  {
   "cell_type": "code",
   "execution_count": 2,
   "metadata": {},
   "outputs": [],
   "source": [
    "import itertools\n",
    "\n",
    "list(itertools.permutations([2012, 2013, 2014]))"
   ]
  },
  {
   "cell_type": "markdown",
   "metadata": {},
   "source": [
    "Next, let's define a function `isSolution` that detects permutations of nine integers that have the same sum along each of the four lines."
   ]
  },
  {
   "cell_type": "code",
   "execution_count": 3,
   "metadata": {},
   "outputs": [
    {
     "name": "stdout",
     "output_type": "stream",
     "text": [
      "non_solution1: False\n",
      "solution1: True\n"
     ]
    }
   ],
   "source": [
    "def isSolution(t):\n",
    "    C = t[0] + t[1] + t[2]\n",
    "\n",
    "    if C != t[2] + t[3] + t[4]:\n",
    "        return False\n",
    "\n",
    "    if C != t[4] + t[5] + t[6]:\n",
    "        return False\n",
    "    \n",
    "    return C == t[6] + t[7] + t[8]\n",
    "\n",
    "non_solution1 = (-4, -3, -2, -1, 0, 1, 2, 3, 4)\n",
    "print('non_solution1:', isSolution(non_solution1))\n",
    "\n",
    "solution1 = (-2, 4, -4, 3, -1, 2, -3, 0, 1)\n",
    "print('solution1:', isSolution(solution1))"
   ]
  },
  {
   "cell_type": "markdown",
   "metadata": {},
   "source": [
    "We can generate the list of nine integers using the `range` function."
   ]
  },
  {
   "cell_type": "code",
   "execution_count": 4,
   "metadata": {},
   "outputs": [
    {
     "data": {
      "text/plain": [
       "[2012, 2013, 2014, 2015, 2016, 2017, 2018, 2019, 2020]"
      ]
     },
     "execution_count": 4,
     "metadata": {},
     "output_type": "execute_result"
    }
   ],
   "source": [
    "list(range(2012, 2021))"
   ]
  },
  {
   "cell_type": "code",
   "execution_count": 5,
   "metadata": {},
   "outputs": [
    {
     "data": {
      "text/plain": [
       "96"
      ]
     },
     "execution_count": 5,
     "metadata": {},
     "output_type": "execute_result"
    }
   ],
   "source": [
    "solutions = [(t, t[0] + t[1] + t[2]) \n",
    "             for t in itertools.permutations(range(2012, 2021)) \n",
    "             if isSolution(t)]\n",
    "len(solutions)"
   ]
  },
  {
   "cell_type": "markdown",
   "metadata": {},
   "source": [
    "Note that the number of solutions should be a muliple of 8 because of the symmetries of the problem. \n",
    "Given a solution, we can swap q and r, swap x and y, and reflect left to right to get other solutions. Thus there are 2 * 2 * 2 = 8 solutions that are related to eachother\n",
    "by the symmetries."
   ]
  },
  {
   "cell_type": "code",
   "execution_count": 6,
   "metadata": {},
   "outputs": [
    {
     "data": {
      "text/plain": [
       "0"
      ]
     },
     "execution_count": 6,
     "metadata": {},
     "output_type": "execute_result"
    }
   ],
   "source": [
    "len(solutions) % 8"
   ]
  },
  {
   "cell_type": "markdown",
   "metadata": {},
   "source": [
    "Next, find the minimum value of $C$"
   ]
  },
  {
   "cell_type": "code",
   "execution_count": 7,
   "metadata": {},
   "outputs": [
    {
     "data": {
      "text/plain": [
       "6046"
      ]
     },
     "execution_count": 7,
     "metadata": {},
     "output_type": "execute_result"
    }
   ],
   "source": [
    "C_min = min([C for (t, C) in solutions])\n",
    "C_min"
   ]
  },
  {
   "cell_type": "markdown",
   "metadata": {},
   "source": [
    "Now select all the solutions that attain the minimum."
   ]
  },
  {
   "cell_type": "code",
   "execution_count": 8,
   "metadata": {},
   "outputs": [
    {
     "data": {
      "text/plain": [
       "8"
      ]
     },
     "execution_count": 8,
     "metadata": {},
     "output_type": "execute_result"
    }
   ],
   "source": [
    "min_solutions = [t for (t, C) in solutions if C == C_min]\n",
    "len(min_solutions)"
   ]
  },
  {
   "cell_type": "code",
   "execution_count": 9,
   "metadata": {},
   "outputs": [
    {
     "name": "stdout",
     "output_type": "stream",
     "text": [
      "[(2014, 2020, 2012, 2019, 2015, 2018, 2013, 2016, 2017), (2014, 2020, 2012, 2019, 2015, 2018, 2013, 2017, 2016), (2016, 2017, 2013, 2018, 2015, 2019, 2012, 2014, 2020), (2016, 2017, 2013, 2018, 2015, 2019, 2012, 2020, 2014), (2017, 2016, 2013, 2018, 2015, 2019, 2012, 2014, 2020), (2017, 2016, 2013, 2018, 2015, 2019, 2012, 2020, 2014), (2020, 2014, 2012, 2019, 2015, 2018, 2013, 2016, 2017), (2020, 2014, 2012, 2019, 2015, 2018, 2013, 2017, 2016)]\n"
     ]
    }
   ],
   "source": [
    "print(min_solutions)"
   ]
  },
  {
   "cell_type": "markdown",
   "metadata": {},
   "source": [
    "Finally, get the value of $u$ for each of these solutions."
   ]
  },
  {
   "cell_type": "code",
   "execution_count": 10,
   "metadata": {},
   "outputs": [
    {
     "name": "stdout",
     "output_type": "stream",
     "text": [
      "[2015, 2015, 2015, 2015, 2015, 2015, 2015, 2015]\n"
     ]
    }
   ],
   "source": [
    "min_us = [t[4] for t in min_solutions]\n",
    "print(min_us)"
   ]
  },
  {
   "cell_type": "markdown",
   "metadata": {},
   "source": [
    "We can eliminate the duplicates by converting this list to a set."
   ]
  },
  {
   "cell_type": "code",
   "execution_count": 11,
   "metadata": {},
   "outputs": [
    {
     "data": {
      "text/plain": [
       "{2015}"
      ]
     },
     "execution_count": 11,
     "metadata": {},
     "output_type": "execute_result"
    }
   ],
   "source": [
    "set(min_us)"
   ]
  }
 ],
 "metadata": {
  "kernelspec": {
   "display_name": "Python 3",
   "language": "python",
   "name": "python3"
  },
  "language_info": {
   "codemirror_mode": {
    "name": "ipython",
    "version": 3
   },
   "file_extension": ".py",
   "mimetype": "text/x-python",
   "name": "python",
   "nbconvert_exporter": "python",
   "pygments_lexer": "ipython3",
   "version": "3.7.5"
  }
 },
 "nbformat": 4,
 "nbformat_minor": 4
}
