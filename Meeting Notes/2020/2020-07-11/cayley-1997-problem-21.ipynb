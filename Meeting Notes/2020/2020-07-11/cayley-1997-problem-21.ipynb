{
 "cells": [
  {
   "cell_type": "markdown",
   "metadata": {},
   "source": [
    "# Cayley 1997 Problem 21\n",
    "\n",
    "![Cayley 1997 Problem 21](images/cayley-1997-problem-21.png)"
   ]
  },
  {
   "cell_type": "markdown",
   "metadata": {},
   "source": [
    "The problem involves integers but divides them so that the result is a rational number.\n",
    "If we use Python `float` numbers then we'll get round-off errors.\n",
    "Instead, let's use SymPy which can do exact calculations involving rational numbers.\n",
    "\n",
    "First, let's define some SymPy variables for the positive integers $a$, $b$, and $c$."
   ]
  },
  {
   "cell_type": "code",
   "execution_count": 1,
   "metadata": {},
   "outputs": [],
   "source": [
    "from sympy import symbols\n",
    "\n",
    "a, b, c = symbols('a:c', integer=True, positive=True)"
   ]
  },
  {
   "cell_type": "code",
   "execution_count": 2,
   "metadata": {},
   "outputs": [
    {
     "data": {
      "text/plain": [
       "(a, b, c)"
      ]
     },
     "execution_count": 2,
     "metadata": {},
     "output_type": "execute_result"
    }
   ],
   "source": [
    "a, b, c"
   ]
  },
  {
   "cell_type": "markdown",
   "metadata": {},
   "source": [
    "Next, lets define the equation that constrains the variables."
   ]
  },
  {
   "cell_type": "code",
   "execution_count": 3,
   "metadata": {},
   "outputs": [
    {
     "data": {
      "text/latex": [
       "$\\displaystyle \\frac{\\frac{a}{c} + \\frac{a}{b} + 1}{\\frac{b}{c} + 1 + \\frac{b}{a}} = 11$"
      ],
      "text/plain": [
       "Eq((a/c + a/b + 1)/(b/c + 1 + b/a), 11)"
      ]
     },
     "execution_count": 3,
     "metadata": {},
     "output_type": "execute_result"
    }
   ],
   "source": [
    "from sympy import Eq\n",
    "eq21 = Eq((a/c + a/b + 1)/(b/a + b/c + 1), 11)\n",
    "eq21"
   ]
  },
  {
   "cell_type": "code",
   "execution_count": 4,
   "metadata": {},
   "outputs": [
    {
     "data": {
      "text/latex": [
       "$\\displaystyle \\text{False}$"
      ],
      "text/plain": [
       "False"
      ]
     },
     "execution_count": 4,
     "metadata": {},
     "output_type": "execute_result"
    }
   ],
   "source": [
    "eq21.subs(a, 1).subs(b, 1).subs(c, 1)"
   ]
  },
  {
   "cell_type": "code",
   "execution_count": 5,
   "metadata": {},
   "outputs": [
    {
     "data": {
      "text/latex": [
       "$\\displaystyle \\text{False}$"
      ],
      "text/plain": [
       "False"
      ]
     },
     "execution_count": 5,
     "metadata": {},
     "output_type": "execute_result"
    }
   ],
   "source": [
    "def is_solution(va, vb, vc):\n",
    "    if va + 2 * vb + vc <= 40:\n",
    "        return eq21.subs(a, va).subs(b, vb).subs(c, vc)\n",
    "    return False\n",
    "\n",
    "is_solution(1, 1, 1)"
   ]
  },
  {
   "cell_type": "code",
   "execution_count": 6,
   "metadata": {},
   "outputs": [
    {
     "name": "stdout",
     "output_type": "stream",
     "text": [
      "Number of solutions is 42\n"
     ]
    }
   ],
   "source": [
    "def find_all_solutions():\n",
    "    return [(va, vb, vc)\n",
    "           for va in range(1, 40)\n",
    "           for vb in range(1, 20)\n",
    "           for vc in range(1, 40)\n",
    "           if is_solution(va, vb, vc)]\n",
    "\n",
    "solutions = find_all_solutions()\n",
    "print('Number of solutions is', len(solutions))"
   ]
  },
  {
   "cell_type": "markdown",
   "metadata": {},
   "source": [
    "The solutions are:"
   ]
  },
  {
   "cell_type": "code",
   "execution_count": 7,
   "metadata": {},
   "outputs": [
    {
     "name": "stdout",
     "output_type": "stream",
     "text": [
      "(11, 1, 1)\n",
      "(11, 1, 2)\n",
      "(11, 1, 3)\n",
      "(11, 1, 4)\n",
      "(11, 1, 5)\n",
      "(11, 1, 6)\n",
      "(11, 1, 7)\n",
      "(11, 1, 8)\n",
      "(11, 1, 9)\n",
      "(11, 1, 10)\n",
      "(11, 1, 11)\n",
      "(11, 1, 12)\n",
      "(11, 1, 13)\n",
      "(11, 1, 14)\n",
      "(11, 1, 15)\n",
      "(11, 1, 16)\n",
      "(11, 1, 17)\n",
      "(11, 1, 18)\n",
      "(11, 1, 19)\n",
      "(11, 1, 20)\n",
      "(11, 1, 21)\n",
      "(11, 1, 22)\n",
      "(11, 1, 23)\n",
      "(11, 1, 24)\n",
      "(11, 1, 25)\n",
      "(11, 1, 26)\n",
      "(11, 1, 27)\n",
      "(22, 2, 1)\n",
      "(22, 2, 2)\n",
      "(22, 2, 3)\n",
      "(22, 2, 4)\n",
      "(22, 2, 5)\n",
      "(22, 2, 6)\n",
      "(22, 2, 7)\n",
      "(22, 2, 8)\n",
      "(22, 2, 9)\n",
      "(22, 2, 10)\n",
      "(22, 2, 11)\n",
      "(22, 2, 12)\n",
      "(22, 2, 13)\n",
      "(22, 2, 14)\n",
      "(33, 3, 1)\n"
     ]
    }
   ],
   "source": [
    "for s in solutions:\n",
    "    print(s)"
   ]
  }
 ],
 "metadata": {
  "kernelspec": {
   "display_name": "Python 3",
   "language": "python",
   "name": "python3"
  },
  "language_info": {
   "codemirror_mode": {
    "name": "ipython",
    "version": 3
   },
   "file_extension": ".py",
   "mimetype": "text/x-python",
   "name": "python",
   "nbconvert_exporter": "python",
   "pygments_lexer": "ipython3",
   "version": "3.7.5"
  }
 },
 "nbformat": 4,
 "nbformat_minor": 4
}
