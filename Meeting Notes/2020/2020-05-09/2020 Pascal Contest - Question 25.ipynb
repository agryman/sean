{
 "cells": [
  {
   "cell_type": "markdown",
   "metadata": {},
   "source": [
    "# Question\n",
    "\n",
    "25. We call the pair (m,n) of positive integers a happy pair if the greatest common divisor of m and n is a perfect square. For example, (20, 24) is a happy pair because the greatest common divisor of 20 and 24 is 4. Suppose that k is a positive integer such that (205800,35k) is a happy pair. The number of possible values of k with k ≤ 2940 is\n",
    "\n",
    "(A) 36 (B) 28 (C) 24 (D) 30 (E) 27"
   ]
  },
  {
   "cell_type": "markdown",
   "metadata": {},
   "source": [
    "# Python Solution\n",
    "\n",
    "First, we need to define a function that computes the greatest common divisor of two position integers."
   ]
  },
  {
   "cell_type": "code",
   "execution_count": 1,
   "metadata": {},
   "outputs": [],
   "source": [
    "def gcd(x, y):\n",
    "    assert type(x) is int\n",
    "    assert type(y) is int\n",
    "    assert x > 0\n",
    "    assert y > 0\n",
    "    \n",
    "    a = max(x, y)\n",
    "    b = min(x, y)\n",
    "    r = a % b\n",
    "    \n",
    "    while r > 0:\n",
    "        a = b\n",
    "        b = r\n",
    "        r = a % b\n",
    "    \n",
    "    return b"
   ]
  },
  {
   "cell_type": "code",
   "execution_count": 2,
   "metadata": {},
   "outputs": [
    {
     "data": {
      "text/plain": [
       "4"
      ]
     },
     "execution_count": 2,
     "metadata": {},
     "output_type": "execute_result"
    }
   ],
   "source": [
    "gcd(20,24)"
   ]
  },
  {
   "cell_type": "markdown",
   "metadata": {},
   "source": [
    "Or, we can use the built-in `math.gcd` function."
   ]
  },
  {
   "cell_type": "code",
   "execution_count": 3,
   "metadata": {},
   "outputs": [
    {
     "data": {
      "text/plain": [
       "4"
      ]
     },
     "execution_count": 3,
     "metadata": {},
     "output_type": "execute_result"
    }
   ],
   "source": [
    "import math\n",
    "\n",
    "math.gcd(20, 24)"
   ]
  },
  {
   "cell_type": "markdown",
   "metadata": {},
   "source": [
    "An integer `x` is a perfect square if and only if it is the square of an integer `y`, so `x == y * y`. Therefore `y == int(sqrt(x))`."
   ]
  },
  {
   "cell_type": "code",
   "execution_count": 4,
   "metadata": {},
   "outputs": [
    {
     "data": {
      "text/plain": [
       "True"
      ]
     },
     "execution_count": 4,
     "metadata": {},
     "output_type": "execute_result"
    }
   ],
   "source": [
    "def is_perfect_square(x):\n",
    "    y = int(math.sqrt(x))\n",
    "    return x == y * y\n",
    "\n",
    "is_perfect_square(25)"
   ]
  },
  {
   "cell_type": "code",
   "execution_count": 5,
   "metadata": {},
   "outputs": [
    {
     "data": {
      "text/plain": [
       "False"
      ]
     },
     "execution_count": 5,
     "metadata": {},
     "output_type": "execute_result"
    }
   ],
   "source": [
    "is_perfect_square(24)"
   ]
  },
  {
   "cell_type": "code",
   "execution_count": 6,
   "metadata": {},
   "outputs": [
    {
     "data": {
      "text/plain": [
       "True"
      ]
     },
     "execution_count": 6,
     "metadata": {},
     "output_type": "execute_result"
    }
   ],
   "source": [
    "def is_happy_pair(m, n):\n",
    "    return is_perfect_square(gcd(m, n))\n",
    "\n",
    "is_happy_pair(20, 24)"
   ]
  },
  {
   "cell_type": "code",
   "execution_count": 7,
   "metadata": {},
   "outputs": [
    {
     "data": {
      "text/plain": [
       "[35,\n",
       " 140,\n",
       " 175,\n",
       " 385,\n",
       " 455,\n",
       " 595,\n",
       " 665,\n",
       " 700,\n",
       " 805,\n",
       " 875,\n",
       " 1015,\n",
       " 1085,\n",
       " 1295,\n",
       " 1435,\n",
       " 1505,\n",
       " 1540,\n",
       " 1645,\n",
       " 1820,\n",
       " 1855,\n",
       " 1925,\n",
       " 2065,\n",
       " 2135,\n",
       " 2275,\n",
       " 2345,\n",
       " 2380,\n",
       " 2485,\n",
       " 2555,\n",
       " 2660,\n",
       " 2765,\n",
       " 2905]"
      ]
     },
     "execution_count": 7,
     "metadata": {},
     "output_type": "execute_result"
    }
   ],
   "source": [
    "solutions = [k for k in range(1, 2941) if is_happy_pair(205800, 35 * k)]\n",
    "solutions"
   ]
  },
  {
   "cell_type": "code",
   "execution_count": 8,
   "metadata": {},
   "outputs": [
    {
     "data": {
      "text/plain": [
       "30"
      ]
     },
     "execution_count": 8,
     "metadata": {},
     "output_type": "execute_result"
    }
   ],
   "source": [
    "len(solutions)"
   ]
  },
  {
   "cell_type": "code",
   "execution_count": null,
   "metadata": {},
   "outputs": [],
   "source": []
  }
 ],
 "metadata": {
  "kernelspec": {
   "display_name": "Python 3",
   "language": "python",
   "name": "python3"
  },
  "language_info": {
   "codemirror_mode": {
    "name": "ipython",
    "version": 3
   },
   "file_extension": ".py",
   "mimetype": "text/x-python",
   "name": "python",
   "nbconvert_exporter": "python",
   "pygments_lexer": "ipython3",
   "version": "3.7.6"
  }
 },
 "nbformat": 4,
 "nbformat_minor": 4
}
