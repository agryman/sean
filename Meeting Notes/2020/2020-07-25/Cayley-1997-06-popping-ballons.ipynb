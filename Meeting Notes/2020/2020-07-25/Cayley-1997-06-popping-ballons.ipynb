{
 "cells": [
  {
   "cell_type": "markdown",
   "metadata": {},
   "source": [
    "# Cayley Contest, 1997, Question 6\n",
    "\n",
    "![Cayley 1998. Problem #6](images/cayley-1997-06-problem.png)"
   ]
  },
  {
   "cell_type": "markdown",
   "metadata": {},
   "source": [
    "We can represent the set of remaining balloons as a string by listing their letters in clockwise order, staring with `A`.\n",
    "Initially, all balloon remain."
   ]
  },
  {
   "cell_type": "code",
   "execution_count": 1,
   "metadata": {},
   "outputs": [],
   "source": [
    "init_balloons = 'ABCDEFGHIJKL'"
   ]
  },
  {
   "cell_type": "markdown",
   "metadata": {},
   "source": [
    "We are told to pop every third balloon, until only two remain.\n",
    "We skip over the first two balloons using Python string slicing."
   ]
  },
  {
   "cell_type": "code",
   "execution_count": 2,
   "metadata": {},
   "outputs": [
    {
     "name": "stdout",
     "output_type": "stream",
     "text": [
      "front =  AB\n"
     ]
    }
   ],
   "source": [
    "balloons = init_balloons\n",
    "front = balloons[:2]\n",
    "print('front = ', front)"
   ]
  },
  {
   "cell_type": "markdown",
   "metadata": {},
   "source": [
    "We pop the third balloon."
   ]
  },
  {
   "cell_type": "code",
   "execution_count": 3,
   "metadata": {},
   "outputs": [
    {
     "name": "stdout",
     "output_type": "stream",
     "text": [
      "pop = C\n"
     ]
    }
   ],
   "source": [
    "pop = balloons[2]\n",
    "print('pop =', pop)"
   ]
  },
  {
   "cell_type": "markdown",
   "metadata": {},
   "source": [
    "We grab the rest of the balloons using string slicing."
   ]
  },
  {
   "cell_type": "code",
   "execution_count": 4,
   "metadata": {},
   "outputs": [
    {
     "name": "stdout",
     "output_type": "stream",
     "text": [
      "rest = DEFGHIJKL\n"
     ]
    }
   ],
   "source": [
    "rest = balloons[3:]\n",
    "print('rest =', rest)"
   ]
  },
  {
   "cell_type": "markdown",
   "metadata": {},
   "source": [
    "Since the balloons are arranged in a circle, the front now appears after the rest."
   ]
  },
  {
   "cell_type": "code",
   "execution_count": 5,
   "metadata": {},
   "outputs": [
    {
     "name": "stdout",
     "output_type": "stream",
     "text": [
      "balloons = DEFGHIJKLAB\n"
     ]
    }
   ],
   "source": [
    "balloons = rest + front\n",
    "print('balloons =', balloons)"
   ]
  },
  {
   "cell_type": "markdown",
   "metadata": {},
   "source": [
    "Now repeat the above steps until only two balloons remain.\n",
    "Put the above procedure in a function."
   ]
  },
  {
   "cell_type": "code",
   "execution_count": 6,
   "metadata": {},
   "outputs": [],
   "source": [
    "def pop_balloons(balloons):\n",
    "    while len(balloons) > 2:\n",
    "        front = balloons[:2]\n",
    "        pop = balloons[2]\n",
    "        print('from ', balloons, ' pop', pop)\n",
    "        rest = balloons[3:]\n",
    "        balloons = rest + front\n",
    "        \n",
    "    return balloons"
   ]
  },
  {
   "cell_type": "markdown",
   "metadata": {},
   "source": [
    "Finally run this function on the initial set of balloons."
   ]
  },
  {
   "cell_type": "code",
   "execution_count": 7,
   "metadata": {},
   "outputs": [
    {
     "name": "stdout",
     "output_type": "stream",
     "text": [
      "from  ABCDEFGHIJKL  pop C\n",
      "from  DEFGHIJKLAB  pop F\n",
      "from  GHIJKLABDE  pop I\n",
      "from  JKLABDEGH  pop L\n",
      "from  ABDEGHJK  pop D\n",
      "from  EGHJKAB  pop H\n",
      "from  JKABEG  pop A\n",
      "from  BEGJK  pop G\n",
      "from  JKBE  pop B\n",
      "from  EJK  pop K\n",
      "remain = EJ\n"
     ]
    }
   ],
   "source": [
    "remain = pop_balloons(init_balloons)\n",
    "print('remain =', remain)"
   ]
  }
 ],
 "metadata": {
  "kernelspec": {
   "display_name": "Python 3",
   "language": "python",
   "name": "python3"
  },
  "language_info": {
   "codemirror_mode": {
    "name": "ipython",
    "version": 3
   },
   "file_extension": ".py",
   "mimetype": "text/x-python",
   "name": "python",
   "nbconvert_exporter": "python",
   "pygments_lexer": "ipython3",
   "version": "3.7.5"
  }
 },
 "nbformat": 4,
 "nbformat_minor": 4
}
